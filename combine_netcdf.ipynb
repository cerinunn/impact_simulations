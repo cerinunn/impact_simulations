{
 "cells": [
  {
   "cell_type": "markdown",
   "metadata": {},
   "source": [
    "# Combine_NetCDF\n",
    "\n",
    "### Combine the NetCDF files to a a single file called axisem3d_synthetics.nc.rank_all.nc. This only needs to run once after the simulation is completed (if the file axisem3d_synthetics.nc.rank_all.nc exists, this code does not need to be run). \n",
    "\n"
   ]
  },
  {
   "cell_type": "markdown",
   "metadata": {},
   "source": [
    "## Section 1 - Import code and make definitions"
   ]
  },
  {
   "cell_type": "code",
   "execution_count": 8,
   "metadata": {},
   "outputs": [],
   "source": [
    "# %matplotlib notebook\n",
    "%matplotlib inline\n",
    "\n",
    "from impact_simulations.postprocessing_util import combined_file, combined_file_slices"
   ]
  },
  {
   "cell_type": "code",
   "execution_count": 9,
   "metadata": {},
   "outputs": [],
   "source": [
    "# top level dir \n",
    "\n",
    "######## \n",
    "# Extract the AxiSEM3D runs to a directory and set the top directory HERE \n",
    "top_dir = '/Users/cnunn/lunar_data/axisem3d_runs/'\n",
    "folder='simu3D'"
   ]
  },
  {
   "cell_type": "markdown",
   "metadata": {},
   "source": [
    "## Section 2 - Combining Stations"
   ]
  },
  {
   "cell_type": "code",
   "execution_count": 3,
   "metadata": {},
   "outputs": [],
   "source": [
    "############################################################################\n",
    "#VPREMOON\n",
    "############################################################################\n",
    "\n",
    "############################################################################\n",
    "# specify a run name\n",
    "run = '120_VPREMOON_atten_explosion_2'\n",
    "run_title = \"VPREMOON, with attenuation, surface explosion\"\n",
    "short_title = \"VPREMOON  V-0\"\n",
    "# model for TauP\n",
    "model_taup='VPREMOON_taup'\n",
    "\n",
    "#######\n",
    "# specify station_group\n",
    "station_group = 'stations_many'\n",
    "# specify station file\n",
    "station_file = 'stations_many.txt'\n",
    "# specify a station key (network.name)\n",
    "station_key = 'CO.A10'\n",
    "\n",
    "# source name \n",
    "source_name='explosion0'\n",
    "\n",
    "# combine the netcdf file\n",
    "print(top_dir, run, station_group, station_file)\n",
    "combined_file(top_dir=top_dir,\n",
    "        run=run,station_group=station_group,station_file=station_file,folder=folder)\n",
    "\n",
    "\n",
    "############################################################################\n",
    "\n",
    "\n",
    "print('Models combined')\n",
    "\n"
   ]
  },
  {
   "cell_type": "markdown",
   "metadata": {},
   "source": [
    "## Section 3 - Combining Elements"
   ]
  },
  {
   "cell_type": "code",
   "execution_count": 7,
   "metadata": {},
   "outputs": [
    {
     "name": "stdout",
     "output_type": "stream",
     "text": [
      "/Users/cnunn/lunar_data/axisem3d_runs/ 159_very_simple_moon_deep_explosion_10 simu3D orthogonal_azimuthal_slices_10_all stations_array.txt\n",
      "45960\n",
      "0 8171\n",
      "8171 11648\n",
      "11648 17583\n",
      "17583 19811\n",
      "19811 21196\n",
      "21196 23346\n",
      "23346 30341\n",
      "30341 35886\n",
      "35886 43773\n",
      "43773 45960\n",
      "Source\n",
      "<class 'netCDF4._netCDF4.Dataset'>\n",
      "root group (NETCDF4 data model, file format HDF5):\n",
      "    dimensions(sizes): dim_time(601), dim_element__NaG=1(2187), dim_na__NaG=1(1), dim_GLL(9), dim_channel(3), dim_channel_str_length(2), dim_na_grid(1), dim_element(2187), dim_5(5), dim_2(2)\n",
      "    variables(dimensions): float64 data_time(dim_time), float32 data_wave__NaG=1(dim_element__NaG=1, dim_na__NaG=1, dim_GLL, dim_channel, dim_time), |S1 list_channel(dim_channel, dim_channel_str_length), int32 list_element__NaG=1(dim_element__NaG=1), int32 list_na_grid(dim_na_grid), int32 list_element_na(dim_element, dim_5), float64 list_element_coords(dim_element, dim_GLL, dim_2)\n",
      "    groups: \n",
      "Destination\n",
      "<class 'netCDF4._netCDF4.Dataset'>\n",
      "root group (NETCDF4 data model, file format HDF5):\n",
      "    dimensions(sizes): dim_time(601), dim_element__NaG(45960), dim_na__NaG(1), dim_GLL(9), dim_channel(3), dim_channel_str_length(2), dim_na_grid(1), dim_element(45960), dim_5(5), dim_2(2)\n",
      "    variables(dimensions): float64 data_time(dim_time), |S1 list_channel(dim_channel, dim_channel_str_length), int32 list_na_grid(dim_na_grid), int32 list_element__NaG(dim_element__NaG), int32 list_element_na(dim_element, dim_5), float64 list_element_coords(dim_element, dim_GLL, dim_2), float32 data_wave__NaG(dim_element__NaG, dim_na__NaG, dim_GLL, dim_channel, dim_time)\n",
      "    groups: \n",
      "made combined file\n",
      "/Users/cnunn/lunar_data/axisem3d_runs/159_very_simple_moon_deep_explosion_10/simu3D/output/elements/orthogonal_azimuthal_slices_10_all/axisem3d_synthetics.nc.rank_all.nc\n",
      "deleted original files\n",
      "deleted original files\n",
      "deleted original files\n",
      "deleted original files\n",
      "deleted original files\n",
      "deleted original files\n",
      "deleted original files\n",
      "deleted original files\n",
      "deleted original files\n",
      "deleted original files\n",
      "Models combined\n"
     ]
    }
   ],
   "source": [
    "############################################################################\n",
    "#Simple Moon\n",
    "############################################################################\n",
    "\n",
    "############################################################################\n",
    "# specify a run name\n",
    "run = '159_very_simple_moon_deep_explosion_10'\n",
    "run_title = \"Very Simple Moon, deep explosion\"\n",
    "short_title = \"Simple\"\n",
    "# model for TauP\n",
    "model_taup='simple_Moon_taup'\n",
    "\n",
    "#######\n",
    "# specify station_group\n",
    "station_group = 'stations_array'\n",
    "# specify station file\n",
    "station_file = 'stations_array.txt'\n",
    "# specify a station key (network.name)\n",
    "station_key = 'CO.A10'\n",
    "\n",
    "#######\n",
    "# specify element_name\n",
    "element_name = 'orthogonal_azimuthal_slices_10_all'\n",
    "\n",
    "# source name \n",
    "source_name='explosion_south_east_quadrant'\n",
    "\n",
    "# combine the netcdf file\n",
    "print(top_dir, run, folder, element_name, station_file)\n",
    "combined_file_slices(top_dir=top_dir,\n",
    "        run=run,element_name=element_name,folder=folder,delete=True)\n",
    "\n",
    "\n",
    "############################################################################\n",
    "\n",
    "\n",
    "print('Models combined')"
   ]
  },
  {
   "cell_type": "code",
   "execution_count": null,
   "metadata": {},
   "outputs": [],
   "source": []
  },
  {
   "cell_type": "code",
   "execution_count": null,
   "metadata": {},
   "outputs": [],
   "source": []
  },
  {
   "cell_type": "code",
   "execution_count": null,
   "metadata": {},
   "outputs": [],
   "source": []
  }
 ],
 "metadata": {
  "kernelspec": {
   "display_name": "Python 3 (ipykernel)",
   "language": "python",
   "name": "python3"
  },
  "language_info": {
   "codemirror_mode": {
    "name": "ipython",
    "version": 3
   },
   "file_extension": ".py",
   "mimetype": "text/x-python",
   "name": "python",
   "nbconvert_exporter": "python",
   "pygments_lexer": "ipython3",
   "version": "3.8.19"
  }
 },
 "nbformat": 4,
 "nbformat_minor": 4
}
