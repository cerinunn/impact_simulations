{
 "cells": [
  {
   "cell_type": "markdown",
   "metadata": {},
   "source": [
    "# Combine_NetCDF\n",
    "\n",
    "### Combine the NetCDF files to a a single file called axisem3d_synthetics.nc.rank_all.nc. This only needs to run once after the simulation is completed (if the file axisem3d_synthetics.nc.rank_all.nc exists, this code does not need to be run). \n",
    "\n"
   ]
  },
  {
   "cell_type": "markdown",
   "metadata": {},
   "source": [
    "## Section 1 - Import code and make definitions"
   ]
  },
  {
   "cell_type": "code",
   "execution_count": 1,
   "metadata": {},
   "outputs": [],
   "source": [
    "# %matplotlib notebook\n",
    "%matplotlib inline\n",
    "\n",
    "from impact_simulations.postprocessing_util import combined_file"
   ]
  },
  {
   "cell_type": "code",
   "execution_count": 3,
   "metadata": {},
   "outputs": [],
   "source": [
    "# top level dir \n",
    "\n",
    "######## \n",
    "# Extract the AxiSEM3D runs to a directory and set the top directory HERE \n",
    "top_dir = '/Users/cnunn/lunar_data/axisem3d_runs/'\n",
    "folder='simu3D'"
   ]
  },
  {
   "cell_type": "code",
   "execution_count": 3,
   "metadata": {},
   "outputs": [],
   "source": [
    "############################################################################\n",
    "#VPREMOON\n",
    "############################################################################\n",
    "\n",
    "############################################################################\n",
    "# specify a run name\n",
    "run = '120_VPREMOON_atten_explosion_2'\n",
    "run_title = \"VPREMOON, with attenuation, surface explosion\"\n",
    "short_title = \"VPREMOON  V-0\"\n",
    "# model for TauP\n",
    "model_taup='VPREMOON_taup'\n",
    "\n",
    "#######\n",
    "# specify station_group\n",
    "station_group = 'stations_many'\n",
    "# specify station file\n",
    "station_file = 'stations_many.txt'\n",
    "# specify a station key (network.name)\n",
    "station_key = 'CO.A10'\n",
    "\n",
    "# source name \n",
    "source_name='explosion0'\n",
    "\n",
    "# combine the netcdf file\n",
    "print(top_dir, run, station_group, station_file)\n",
    "combined_file(top_dir=top_dir,\n",
    "        run=run,station_group=station_group,station_file=station_file,folder=folder)\n",
    "\n",
    "\n",
    "############################################################################\n",
    "\n",
    "\n",
    "print('Models combined')\n",
    "\n"
   ]
  }
 ],
 "metadata": {
  "kernelspec": {
   "display_name": "Python 3 (ipykernel)",
   "language": "python",
   "name": "python3"
  },
  "language_info": {
   "codemirror_mode": {
    "name": "ipython",
    "version": 3
   },
   "file_extension": ".py",
   "mimetype": "text/x-python",
   "name": "python",
   "nbconvert_exporter": "python",
   "pygments_lexer": "ipython3",
   "version": "3.8.16"
  }
 },
 "nbformat": 4,
 "nbformat_minor": 2
}
